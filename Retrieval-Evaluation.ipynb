{
 "cells": [
  {
   "cell_type": "markdown",
   "id": "4dc92eb5-460e-4d77-8e1c-8d30421749f3",
   "metadata": {},
   "source": [
    "### Retrieval method 1: minsearch"
   ]
  },
  {
   "cell_type": "code",
   "execution_count": 1,
   "id": "c17a6a90-54b8-4e09-aca7-584301fd3952",
   "metadata": {},
   "outputs": [],
   "source": [
    "import minsearch\n",
    "\n",
    "ms_index = minsearch.Index(\n",
    "    text_fields=[\"theme\", \"chapter\", \"question\"],\n",
    "    keyword_fields=[]\n",
    ")"
   ]
  },
  {
   "cell_type": "code",
   "execution_count": 2,
   "id": "45bc4284-1b2a-4be7-84a4-bae526a65aa1",
   "metadata": {},
   "outputs": [
    {
     "data": {
      "text/plain": [
       "<minsearch.Index at 0x10479e950>"
      ]
     },
     "execution_count": 2,
     "metadata": {},
     "output_type": "execute_result"
    }
   ],
   "source": [
    "import pandas as pd\n",
    "import numpy as np\n",
    "import json\n",
    "from tqdm import tqdm\n",
    "\n",
    "# Load your generated questions\n",
    "with open('data/generated_questions.json', 'r') as f:\n",
    "    questions = json.load(f)\n",
    "\n",
    "ms_index.fit(questions)"
   ]
  },
  {
   "cell_type": "code",
   "execution_count": 3,
   "id": "3c759806-548b-4887-a828-4cbee3d8ba11",
   "metadata": {},
   "outputs": [],
   "source": [
    "def search_minsearch(query):\n",
    "    boost = {'question': 3.0, 'theme': 2.0, 'chapter': 1.0}\n",
    "\n",
    "    results = ms_index.search(\n",
    "        query=query,\n",
    "        boost_dict=boost,\n",
    "        num_results=5\n",
    "    )\n",
    "\n",
    "    return results"
   ]
  },
  {
   "cell_type": "code",
   "execution_count": 4,
   "id": "d810fc2b-faab-4eaa-8575-92cedc201e3f",
   "metadata": {},
   "outputs": [
    {
     "data": {
      "text/plain": [
       "[{'theme': 'Traffic Signs',\n",
       "  'chapter': 'Understanding German Traffic Signs',\n",
       "  'question': 'What does a triangular traffic sign with a red border and a white background indicate?',\n",
       "  'options': ['A. Priority road', 'B. Give way', 'C. No entry'],\n",
       "  'correct_options': ['B. Give way'],\n",
       "  'comments': 'A triangular traffic sign with a red border and a white background indicates that drivers must give way to vehicles on the main road.'},\n",
       " {'theme': 'Traffic Signs',\n",
       "  'chapter': 'Understanding German Traffic Signs',\n",
       "  'question': 'What does a blue traffic sign with a white arrow pointing upwards indicate?',\n",
       "  'options': ['A. One-way street',\n",
       "   'B. Mandatory direction of travel',\n",
       "   'C. No entry'],\n",
       "  'correct_options': ['B. Mandatory direction of travel'],\n",
       "  'comments': 'This sign indicates that drivers must follow the direction of the arrow and proceed in that direction.'},\n",
       " {'theme': 'Traffic Signs',\n",
       "  'chapter': 'Understanding German Traffic Signs',\n",
       "  'question': 'What does a blue circular sign with a white arrow pointing upwards indicate?',\n",
       "  'options': ['A. Mandatory direction of travel',\n",
       "   'B. No entry',\n",
       "   'C. Priority road'],\n",
       "  'correct_options': ['A. Mandatory direction of travel'],\n",
       "  'comments': 'This sign indicates that drivers must follow the direction of the arrow and proceed straight ahead.'},\n",
       " {'theme': 'Traffic Signs',\n",
       "  'chapter': 'Understanding German Traffic Signs',\n",
       "  'question': 'What does a blue circular traffic sign with a white arrow pointing upwards indicate?',\n",
       "  'options': ['A. Priority road',\n",
       "   'B. Mandatory direction',\n",
       "   'C. End of speed limit zone'],\n",
       "  'correct_options': ['B. Mandatory direction'],\n",
       "  'comments': 'A blue circular traffic sign with a white arrow pointing upwards indicates a mandatory direction that drivers must follow. This sign informs drivers about the compulsory direction they must take at the intersection or junction.'},\n",
       " {'theme': 'Traffic Signs',\n",
       "  'chapter': 'Understanding German Traffic Signs',\n",
       "  'question': 'What does a blue circular traffic sign with a white arrow pointing upwards indicate?',\n",
       "  'options': ['A. Mandatory direction of travel',\n",
       "   'B. No overtaking allowed',\n",
       "   'C. Stop sign ahead'],\n",
       "  'correct_options': ['A. Mandatory direction of travel'],\n",
       "  'comments': 'A blue circular traffic sign with a white arrow pointing upwards indicates the mandatory direction of travel. Drivers must follow the direction indicated by the arrow on the sign.'}]"
      ]
     },
     "execution_count": 4,
     "metadata": {},
     "output_type": "execute_result"
    }
   ],
   "source": [
    "search_minsearch(\"What does a red triangular sign indicate?\")"
   ]
  },
  {
   "cell_type": "code",
   "execution_count": null,
   "id": "8fdbe1d9-9408-49db-b723-61c7288ab11b",
   "metadata": {},
   "outputs": [],
   "source": []
  },
  {
   "cell_type": "markdown",
   "id": "8338980d-bf43-49e4-a8ab-e70939c02fba",
   "metadata": {},
   "source": [
    "### Evaluate"
   ]
  },
  {
   "cell_type": "code",
   "execution_count": 5,
   "id": "449f08da-fe3d-41d1-8dcb-bb9337534c6c",
   "metadata": {},
   "outputs": [],
   "source": [
    "def hit_rate(relevance_total):\n",
    "    cnt = sum(1 for relevance in relevance_total if any(relevance))\n",
    "    return cnt / len(relevance_total)\n",
    "\n",
    "def mrr(relevance_total):\n",
    "    total_score = 0.0\n",
    "    for relevance in relevance_total:\n",
    "        for rank, rel in enumerate(relevance):\n",
    "            if rel:\n",
    "                total_score += 1 / (rank + 1)\n",
    "                break\n",
    "    return total_score / len(relevance_total)"
   ]
  },
  {
   "cell_type": "code",
   "execution_count": 6,
   "id": "5662b904-a375-4bd1-970e-227bc77b2344",
   "metadata": {},
   "outputs": [
    {
     "name": "stderr",
     "output_type": "stream",
     "text": [
      "100%|█████████████████████████████████████████████████████████████████████████████████████████████████████████████████████████████████████████████████████████████████████████████████████████████████████████████████████████| 30/30 [00:00<00:00, 818.44it/s]\n"
     ]
    }
   ],
   "source": [
    "relevance_total = []\n",
    "\n",
    "with open('data/ground_truth.json', 'r') as f:\n",
    "    ground_truth = json.load(f)\n",
    "\n",
    "for q in tqdm(ground_truth):\n",
    "    doc_id = q['ground_truth_question']\n",
    "    results = search_minsearch(query=q['query'])\n",
    "    relevance = [d['question'] == doc_id for d in results]\n",
    "    relevance_total.append(relevance)"
   ]
  },
  {
   "cell_type": "code",
   "execution_count": 7,
   "id": "6ee574d9-5153-4c11-ab8f-a77dbb4ef8ff",
   "metadata": {},
   "outputs": [
    {
     "data": {
      "text/plain": [
       "(0.9666666666666667, 0.9055555555555554)"
      ]
     },
     "execution_count": 7,
     "metadata": {},
     "output_type": "execute_result"
    }
   ],
   "source": [
    "hit_rate(relevance_total), mrr(relevance_total)"
   ]
  },
  {
   "cell_type": "code",
   "execution_count": null,
   "id": "92234e79-56e2-493c-ab68-eb625df5121c",
   "metadata": {},
   "outputs": [],
   "source": []
  },
  {
   "cell_type": "markdown",
   "id": "9769812c-53ea-40db-95aa-3deae55cab79",
   "metadata": {},
   "source": [
    "### Retrieval method 2: FAISS"
   ]
  },
  {
   "cell_type": "code",
   "execution_count": 8,
   "id": "ae75f61d-5318-4d66-bcc0-766f2a25b598",
   "metadata": {},
   "outputs": [],
   "source": [
    "from sentence_transformers import SentenceTransformer\n",
    "\n",
    "# Initialize the embedding model\n",
    "model_name = \"multi-qa-distilbert-cos-v1\"\n",
    "embedding_model = SentenceTransformer(model_name)\n",
    "\n",
    "# Encode the questions\n",
    "embeddings = []\n",
    "for q in questions:\n",
    "    q_text = f\"{q['theme']} {q['chapter']} {q['question']}\"\n",
    "    embedding = embedding_model.encode(q_text)\n",
    "    embeddings.append(embedding)\n",
    "\n",
    "embeddings = np.array(embeddings)"
   ]
  },
  {
   "cell_type": "code",
   "execution_count": 9,
   "id": "883ba985-beca-4fc5-b6ff-35ca0dbaa8fd",
   "metadata": {},
   "outputs": [],
   "source": [
    "import faiss\n",
    "\n",
    "# Define the dimension\n",
    "dimension = embeddings.shape[1]\n",
    "\n",
    "# Create FAISS index\n",
    "faiss_index = faiss.IndexFlatL2(dimension)\n",
    "faiss_index.add(embeddings)"
   ]
  },
  {
   "cell_type": "code",
   "execution_count": 10,
   "id": "97eef744-03da-4f4f-b2bf-8634489919a6",
   "metadata": {},
   "outputs": [],
   "source": [
    "def search_faiss(query, index, questions, embedding_model, k=5):\n",
    "    # Encode the query\n",
    "    query_embedding = embedding_model.encode([query])\n",
    "\n",
    "    # Search the index\n",
    "    distances, indices = faiss_index.search(query_embedding, k)\n",
    "\n",
    "    # Retrieve the top k questions\n",
    "    retrieved_questions = [questions[idx] for idx in indices[0]]\n",
    "    return retrieved_questions, indices[0]"
   ]
  },
  {
   "cell_type": "code",
   "execution_count": 11,
   "id": "f6a30713-2645-4853-80be-05190925fe06",
   "metadata": {},
   "outputs": [
    {
     "data": {
      "text/plain": [
       "[{'theme': 'Traffic Signs',\n",
       "  'chapter': 'Understanding German Traffic Signs',\n",
       "  'question': 'What does a triangular traffic sign with a red border and a white background indicate?',\n",
       "  'options': ['A. Priority road', 'B. Give way', 'C. No entry'],\n",
       "  'correct_options': ['B. Give way'],\n",
       "  'comments': 'A triangular traffic sign with a red border and a white background indicates that drivers must give way to vehicles on the main road.'},\n",
       " {'theme': 'Traffic Signs',\n",
       "  'chapter': 'Understanding German Traffic Signs',\n",
       "  'question': 'What does a blue circular sign with a white arrow pointing upwards indicate?',\n",
       "  'options': ['A. Mandatory direction of travel',\n",
       "   'B. No entry',\n",
       "   'C. Priority road'],\n",
       "  'correct_options': ['A. Mandatory direction of travel'],\n",
       "  'comments': 'This sign indicates that drivers must follow the direction of the arrow and proceed straight ahead.'},\n",
       " {'theme': 'Traffic Signs',\n",
       "  'chapter': 'Understanding German Traffic Signs',\n",
       "  'question': 'What does a blue circular traffic sign with a white arrow pointing upwards indicate?',\n",
       "  'options': ['A. Priority road',\n",
       "   'B. Mandatory direction',\n",
       "   'C. End of speed limit zone'],\n",
       "  'correct_options': ['B. Mandatory direction'],\n",
       "  'comments': 'A blue circular traffic sign with a white arrow pointing upwards indicates a mandatory direction that drivers must follow. This sign informs drivers about the compulsory direction they must take at the intersection or junction.'},\n",
       " {'theme': 'Traffic Signs',\n",
       "  'chapter': 'Understanding German Traffic Signs',\n",
       "  'question': 'What does a blue circular traffic sign with a white arrow pointing upwards indicate?',\n",
       "  'options': ['A. Mandatory direction of travel',\n",
       "   'B. No overtaking allowed',\n",
       "   'C. Stop sign ahead'],\n",
       "  'correct_options': ['A. Mandatory direction of travel'],\n",
       "  'comments': 'A blue circular traffic sign with a white arrow pointing upwards indicates the mandatory direction of travel. Drivers must follow the direction indicated by the arrow on the sign.'},\n",
       " {'theme': 'Traffic Signs',\n",
       "  'chapter': 'Understanding German Traffic Signs',\n",
       "  'question': 'What does a blue traffic sign with a white arrow pointing upwards indicate?',\n",
       "  'options': ['A. One-way street',\n",
       "   'B. Mandatory direction of travel',\n",
       "   'C. No entry'],\n",
       "  'correct_options': ['B. Mandatory direction of travel'],\n",
       "  'comments': 'This sign indicates that drivers must follow the direction of the arrow and proceed in that direction.'}]"
      ]
     },
     "execution_count": 11,
     "metadata": {},
     "output_type": "execute_result"
    }
   ],
   "source": [
    "user_query = \"What does a red triangular sign indicate?\"\n",
    "\n",
    "retrieved_docs, _ = search_faiss(user_query, faiss_index, questions, embedding_model, k=5)\n",
    "retrieved_docs"
   ]
  },
  {
   "cell_type": "code",
   "execution_count": null,
   "id": "6685104f-ef33-4d5a-83e3-dc821d13fa1e",
   "metadata": {},
   "outputs": [],
   "source": []
  },
  {
   "cell_type": "markdown",
   "id": "2751d574-d606-4acc-a4d2-896eb7b1a067",
   "metadata": {},
   "source": [
    "### Retrieval method 3: FAISS (Cosine)"
   ]
  },
  {
   "cell_type": "code",
   "execution_count": 12,
   "id": "92fff9af-f783-445b-9e6a-264a1d41383b",
   "metadata": {},
   "outputs": [],
   "source": [
    "# Cosine similarity index\n",
    "index = faiss.IndexFlatIP(dimension)  # Inner Product for cosine similarity\n",
    "\n",
    "# Normalize embeddings for cosine similarity\n",
    "embeddings_normalized = embeddings / np.linalg.norm(embeddings, axis=1)[:, np.newaxis]\n",
    "index.add(embeddings_normalized)"
   ]
  },
  {
   "cell_type": "code",
   "execution_count": null,
   "id": "692c6853-7867-4c19-96e1-1846651fd2fc",
   "metadata": {},
   "outputs": [],
   "source": []
  },
  {
   "cell_type": "markdown",
   "id": "96c46f32-9235-46b2-8d5c-966932d9fae6",
   "metadata": {},
   "source": [
    "### Evaluation"
   ]
  },
  {
   "cell_type": "code",
   "execution_count": 13,
   "id": "743b059e-c335-4820-b0f4-e9402ada457c",
   "metadata": {},
   "outputs": [],
   "source": [
    "def search_question(query, index, questions, embedding_model, k=5):\n",
    "    # Encode the query\n",
    "    query_embedding = embedding_model.encode([query])\n",
    "\n",
    "    # Search the index\n",
    "    distances, indices = index.search(query_embedding, k)\n",
    "\n",
    "    # Retrieve the top k questions\n",
    "    retrieved_questions = [questions[idx] for idx in indices[0]]\n",
    "    return retrieved_questions, indices[0]\n",
    "\n",
    "def search_function(query):\n",
    "    return search_question(query, index, questions, embedding_model, k=5)\n",
    "\n",
    "def evaluate(ground_truth, search_function):\n",
    "    relevance_total = []\n",
    "\n",
    "    for item in tqdm(ground_truth):\n",
    "        query = item['query']\n",
    "        relevant_doc_id = item['relevant_doc_id']\n",
    "        results, indices = search_function(query)\n",
    "        relevance = [idx == relevant_doc_id for idx in indices]\n",
    "        relevance_total.append(relevance)\n",
    "\n",
    "    return {\n",
    "        'hit_rate': hit_rate(relevance_total),\n",
    "        'mrr': mrr(relevance_total),\n",
    "    }\n",
    "\n",
    "def evaluate_retrieval_methods():\n",
    "    methods = ['Euclidean', 'Cosine']\n",
    "    results = {}\n",
    "    for method_name in methods:\n",
    "        # Build the index\n",
    "        if method_name == 'Cosine':\n",
    "            # Cosine similarity index\n",
    "            index = faiss.IndexFlatIP(dimension)  # Inner Product for cosine similarity\n",
    "            \n",
    "            # Normalize embeddings for cosine similarity\n",
    "            embeddings_norm = embeddings / np.linalg.norm(embeddings, axis=1)[:, np.newaxis]\n",
    "            index.add(embeddings_norm)\n",
    "            result = evaluate(ground_truth, lambda q: search_question(q, index, questions, embedding_model))\n",
    "        else:\n",
    "            index = faiss.IndexFlatL2(dimension)\n",
    "            index.add(embeddings)\n",
    "            result = evaluate(ground_truth, lambda q: search_question(q, index, questions, embedding_model))\n",
    "\n",
    "        # Evaluate\n",
    "        results[method_name] = result\n",
    "\n",
    "    return results"
   ]
  },
  {
   "cell_type": "code",
   "execution_count": 14,
   "id": "6193142a-168f-4ec2-b109-5ba9a0ab5b96",
   "metadata": {},
   "outputs": [
    {
     "name": "stderr",
     "output_type": "stream",
     "text": [
      "100%|██████████████████████████████████████████████████████████████████████████████████████████████████████████████████████████████████████████████████████████████████████████████████████████████████████████████████████████| 30/30 [00:00<00:00, 32.15it/s]\n",
      "100%|██████████████████████████████████████████████████████████████████████████████████████████████████████████████████████████████████████████████████████████████████████████████████████████████████████████████████████████| 30/30 [00:00<00:00, 73.26it/s]\n"
     ]
    },
    {
     "data": {
      "text/plain": [
       "{'Euclidean': {'hit_rate': 1.0, 'mrr': 0.8666666666666666},\n",
       " 'Cosine': {'hit_rate': 1.0, 'mrr': 0.8666666666666666}}"
      ]
     },
     "execution_count": 14,
     "metadata": {},
     "output_type": "execute_result"
    }
   ],
   "source": [
    "evaluate_retrieval_methods()"
   ]
  },
  {
   "cell_type": "code",
   "execution_count": null,
   "id": "76b64cbb-7589-4135-bc24-f4d8cabd2066",
   "metadata": {},
   "outputs": [],
   "source": []
  },
  {
   "cell_type": "code",
   "execution_count": null,
   "id": "9c753ef5-b7cf-49f8-8bc2-b3e2793a6fbc",
   "metadata": {},
   "outputs": [],
   "source": []
  }
 ],
 "metadata": {
  "kernelspec": {
   "display_name": "Python 3 (ipykernel)",
   "language": "python",
   "name": "python3"
  },
  "language_info": {
   "codemirror_mode": {
    "name": "ipython",
    "version": 3
   },
   "file_extension": ".py",
   "mimetype": "text/x-python",
   "name": "python",
   "nbconvert_exporter": "python",
   "pygments_lexer": "ipython3",
   "version": "3.10.9"
  }
 },
 "nbformat": 4,
 "nbformat_minor": 5
}
